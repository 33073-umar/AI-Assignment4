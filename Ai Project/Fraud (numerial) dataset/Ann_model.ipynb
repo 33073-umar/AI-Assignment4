{
 "cells": [
  {
   "cell_type": "code",
   "execution_count": 1,
   "metadata": {},
   "outputs": [
    {
     "name": "stderr",
     "output_type": "stream",
     "text": [
      "c:\\Users\\Ashad InnO\\AppData\\Local\\Programs\\Python\\Python312\\Lib\\site-packages\\keras\\src\\layers\\core\\dense.py:87: UserWarning: Do not pass an `input_shape`/`input_dim` argument to a layer. When using Sequential models, prefer using an `Input(shape)` object as the first layer in the model instead.\n",
      "  super().__init__(activity_regularizer=activity_regularizer, **kwargs)\n"
     ]
    },
    {
     "name": "stdout",
     "output_type": "stream",
     "text": [
      "Epoch 1/20\n",
      "\u001b[1m254176/254176\u001b[0m \u001b[32m━━━━━━━━━━━━━━━━━━━━\u001b[0m\u001b[37m\u001b[0m \u001b[1m335s\u001b[0m 1ms/step - Precision: 0.9650 - loss: 0.0757 - val_Precision: 1.0000 - val_loss: 0.0452\n",
      "Epoch 2/20\n",
      "\u001b[1m254176/254176\u001b[0m \u001b[32m━━━━━━━━━━━━━━━━━━━━\u001b[0m\u001b[37m\u001b[0m \u001b[1m358s\u001b[0m 1ms/step - Precision: 0.9821 - loss: 0.0340 - val_Precision: 1.0000 - val_loss: 0.0287\n",
      "Epoch 3/20\n",
      "\u001b[1m254176/254176\u001b[0m \u001b[32m━━━━━━━━━━━━━━━━━━━━\u001b[0m\u001b[37m\u001b[0m \u001b[1m370s\u001b[0m 1ms/step - Precision: 0.9854 - loss: 0.0299 - val_Precision: 1.0000 - val_loss: 0.0183\n",
      "Epoch 4/20\n",
      "\u001b[1m254176/254176\u001b[0m \u001b[32m━━━━━━━━━━━━━━━━━━━━\u001b[0m\u001b[37m\u001b[0m \u001b[1m355s\u001b[0m 1ms/step - Precision: 0.9868 - loss: 0.0270 - val_Precision: 1.0000 - val_loss: 0.0250\n",
      "Epoch 5/20\n",
      "\u001b[1m254176/254176\u001b[0m \u001b[32m━━━━━━━━━━━━━━━━━━━━\u001b[0m\u001b[37m\u001b[0m \u001b[1m384s\u001b[0m 2ms/step - Precision: 0.9879 - loss: 0.0251 - val_Precision: 1.0000 - val_loss: 0.0188\n",
      "Epoch 6/20\n",
      "\u001b[1m254176/254176\u001b[0m \u001b[32m━━━━━━━━━━━━━━━━━━━━\u001b[0m\u001b[37m\u001b[0m \u001b[1m361s\u001b[0m 1ms/step - Precision: 0.9883 - loss: 0.0245 - val_Precision: 1.0000 - val_loss: 0.0359\n",
      "Epoch 7/20\n",
      "\u001b[1m254176/254176\u001b[0m \u001b[32m━━━━━━━━━━━━━━━━━━━━\u001b[0m\u001b[37m\u001b[0m \u001b[1m339s\u001b[0m 1ms/step - Precision: 0.9890 - loss: 0.0233 - val_Precision: 1.0000 - val_loss: 0.0333\n",
      "Epoch 8/20\n",
      "\u001b[1m254176/254176\u001b[0m \u001b[32m━━━━━━━━━━━━━━━━━━━━\u001b[0m\u001b[37m\u001b[0m \u001b[1m362s\u001b[0m 1ms/step - Precision: 0.9892 - loss: 0.0229 - val_Precision: 1.0000 - val_loss: 0.0215\n",
      "Epoch 9/20\n",
      "\u001b[1m254176/254176\u001b[0m \u001b[32m━━━━━━━━━━━━━━━━━━━━\u001b[0m\u001b[37m\u001b[0m \u001b[1m375s\u001b[0m 1ms/step - Precision: 0.9896 - loss: 0.0221 - val_Precision: 1.0000 - val_loss: 0.0301\n",
      "Epoch 10/20\n",
      "\u001b[1m254176/254176\u001b[0m \u001b[32m━━━━━━━━━━━━━━━━━━━━\u001b[0m\u001b[37m\u001b[0m \u001b[1m359s\u001b[0m 1ms/step - Precision: 0.9899 - loss: 0.0212 - val_Precision: 1.0000 - val_loss: 0.0181\n",
      "Epoch 11/20\n",
      "\u001b[1m254176/254176\u001b[0m \u001b[32m━━━━━━━━━━━━━━━━━━━━\u001b[0m\u001b[37m\u001b[0m \u001b[1m329s\u001b[0m 1ms/step - Precision: 0.9901 - loss: 0.0213 - val_Precision: 1.0000 - val_loss: 0.0278\n",
      "Epoch 12/20\n",
      "\u001b[1m254176/254176\u001b[0m \u001b[32m━━━━━━━━━━━━━━━━━━━━\u001b[0m\u001b[37m\u001b[0m \u001b[1m316s\u001b[0m 1ms/step - Precision: 0.9902 - loss: 0.0202 - val_Precision: 1.0000 - val_loss: 0.0232\n",
      "Epoch 13/20\n",
      "\u001b[1m254176/254176\u001b[0m \u001b[32m━━━━━━━━━━━━━━━━━━━━\u001b[0m\u001b[37m\u001b[0m \u001b[1m348s\u001b[0m 1ms/step - Precision: 0.9905 - loss: 0.0199 - val_Precision: 1.0000 - val_loss: 0.0149\n",
      "Epoch 14/20\n",
      "\u001b[1m254176/254176\u001b[0m \u001b[32m━━━━━━━━━━━━━━━━━━━━\u001b[0m\u001b[37m\u001b[0m \u001b[1m345s\u001b[0m 1ms/step - Precision: 0.9906 - loss: 0.0197 - val_Precision: 1.0000 - val_loss: 0.0554\n",
      "Epoch 15/20\n",
      "\u001b[1m254176/254176\u001b[0m \u001b[32m━━━━━━━━━━━━━━━━━━━━\u001b[0m\u001b[37m\u001b[0m \u001b[1m371s\u001b[0m 1ms/step - Precision: 0.9906 - loss: 0.0198 - val_Precision: 1.0000 - val_loss: 0.0360\n",
      "Epoch 16/20\n",
      "\u001b[1m254176/254176\u001b[0m \u001b[32m━━━━━━━━━━━━━━━━━━━━\u001b[0m\u001b[37m\u001b[0m \u001b[1m338s\u001b[0m 1ms/step - Precision: 0.9909 - loss: 0.0192 - val_Precision: 1.0000 - val_loss: 0.0261\n",
      "Epoch 17/20\n",
      "\u001b[1m254176/254176\u001b[0m \u001b[32m━━━━━━━━━━━━━━━━━━━━\u001b[0m\u001b[37m\u001b[0m \u001b[1m351s\u001b[0m 1ms/step - Precision: 0.9911 - loss: 0.0191 - val_Precision: 1.0000 - val_loss: 0.0135\n",
      "Epoch 18/20\n",
      "\u001b[1m254176/254176\u001b[0m \u001b[32m━━━━━━━━━━━━━━━━━━━━\u001b[0m\u001b[37m\u001b[0m \u001b[1m355s\u001b[0m 1ms/step - Precision: 0.9912 - loss: 0.0188 - val_Precision: 1.0000 - val_loss: 0.0286\n",
      "Epoch 19/20\n",
      "\u001b[1m254176/254176\u001b[0m \u001b[32m━━━━━━━━━━━━━━━━━━━━\u001b[0m\u001b[37m\u001b[0m \u001b[1m336s\u001b[0m 1ms/step - Precision: 0.9913 - loss: 0.0187 - val_Precision: 1.0000 - val_loss: 0.0149\n",
      "Epoch 20/20\n",
      "\u001b[1m254176/254176\u001b[0m \u001b[32m━━━━━━━━━━━━━━━━━━━━\u001b[0m\u001b[37m\u001b[0m \u001b[1m345s\u001b[0m 1ms/step - Precision: 0.9913 - loss: 0.0187 - val_Precision: 1.0000 - val_loss: 0.0198\n",
      "\u001b[1m39767/39767\u001b[0m \u001b[32m━━━━━━━━━━━━━━━━━━━━\u001b[0m\u001b[37m\u001b[0m \u001b[1m35s\u001b[0m 872us/step\n"
     ]
    },
    {
     "name": "stderr",
     "output_type": "stream",
     "text": [
      "WARNING:absl:You are saving your model as an HDF5 file via `model.save()` or `keras.saving.save_model(model)`. This file format is considered legacy. We recommend using instead the native Keras format, e.g. `model.save('my_model.keras')` or `keras.saving.save_model(model, 'my_model.keras')`. \n"
     ]
    },
    {
     "name": "stdout",
     "output_type": "stream",
     "text": [
      "Confusion Matrix:\n",
      "[[1265319    5585]\n",
      " [     25    1595]]\n",
      "\n",
      "Metrics:\n",
      "Accuracy: 0.9955914387469313\n",
      "Precision: 0.22214484679665739\n",
      "Recall: 0.9845679012345679\n",
      "F1-score: 0.3625\n"
     ]
    },
    {
     "data": {
      "text/plain": [
       "['scaler.joblib']"
      ]
     },
     "execution_count": 1,
     "metadata": {},
     "output_type": "execute_result"
    }
   ],
   "source": [
    "import pandas as pd\n",
    "from sklearn.model_selection import train_test_split\n",
    "from sklearn.preprocessing import LabelEncoder, StandardScaler\n",
    "from imblearn.over_sampling import SMOTE\n",
    "from tensorflow.keras.models import Sequential\n",
    "from tensorflow.keras.layers import Dense\n",
    "from tensorflow.keras.optimizers import Adam\n",
    "from tensorflow.keras.callbacks import EarlyStopping\n",
    "from sklearn.metrics import confusion_matrix, accuracy_score, precision_score, recall_score, f1_score\n",
    "import joblib\n",
    "import os\n",
    "import tensorflow as tf\n",
    "\n",
    "# Set TensorFlow to use as many CPU cores as possible\n",
    "os.environ['TF_CPP_MIN_LOG_LEVEL'] = '2'\n",
    "physical_devices = tf.config.list_physical_devices('CPU')\n",
    "if physical_devices:\n",
    "    tf.config.threading.set_inter_op_parallelism_threads(len(physical_devices))\n",
    "    tf.config.threading.set_intra_op_parallelism_threads(len(physical_devices))\n",
    "\n",
    "# Load the data\n",
    "data = pd.read_csv('dataset.csv')\n",
    "\n",
    "# Preprocess the data\n",
    "data = data.drop(['nameOrig', 'nameDest'], axis=1)\n",
    "\n",
    "# Encode the 'type' column\n",
    "label_encoder = LabelEncoder()\n",
    "data['type'] = label_encoder.fit_transform(data['type'])\n",
    "\n",
    "# Split the data into features and target\n",
    "X = data.drop(['isFraud'], axis=1)\n",
    "y = data['isFraud']\n",
    "\n",
    "# Split the data into training and testing sets\n",
    "X_train, X_test, y_train, y_test = train_test_split(X, y, test_size=0.2, random_state=42)\n",
    "\n",
    "# Standardize the features\n",
    "scaler = StandardScaler()\n",
    "X_train = scaler.fit_transform(X_train)\n",
    "X_test = scaler.transform(X_test)\n",
    "\n",
    "# Apply SMOTE to the training set\n",
    "smote = SMOTE(random_state=42)\n",
    "X_train_resampled, y_train_resampled = smote.fit_resample(X_train, y_train)\n",
    "\n",
    "# Define the ANN model\n",
    "ann_model = Sequential([\n",
    "    Dense(32, input_dim=X_train_resampled.shape[1], activation='relu'),\n",
    "    Dense(16, activation='relu'),\n",
    "    Dense(1, activation='sigmoid')\n",
    "])\n",
    "\n",
    "# Compile the model\n",
    "ann_model.compile(optimizer=Adam(learning_rate=0.001), loss='binary_crossentropy', metrics=['Precision'])\n",
    "\n",
    "# Define early stopping to avoid overfitting\n",
    "early_stopping = EarlyStopping(monitor='Precision', patience=3, mode='max', restore_best_weights=True)\n",
    "\n",
    "# Train the model\n",
    "history = ann_model.fit(X_train_resampled, y_train_resampled, validation_split=0.2, \n",
    "                        epochs=20, batch_size=32, callbacks=[early_stopping], verbose=1)\n",
    "\n",
    "# Make predictions\n",
    "y_pred_proba = ann_model.predict(X_test)\n",
    "y_pred = (y_pred_proba > 0.6).astype('int32')\n",
    "\n",
    "# Calculate metrics\n",
    "conf_matrix = confusion_matrix(y_test, y_pred)\n",
    "accuracy = accuracy_score(y_test, y_pred)\n",
    "precision = precision_score(y_test, y_pred)\n",
    "recall = recall_score(y_test, y_pred)\n",
    "f1 = f1_score(y_test, y_pred)\n",
    "\n",
    "# Display metrics\n",
    "print(\"Confusion Matrix:\")\n",
    "print(conf_matrix)\n",
    "print(\"\\nMetrics:\")\n",
    "print(\"Accuracy:\", accuracy)\n",
    "print(\"Precision:\", precision)\n",
    "print(\"Recall:\", recall)\n",
    "print(\"F1-score:\", f1)\n",
    "\n",
    "# Save the model\n",
    "ann_model.save('ann_model_best.h5')\n",
    "\n",
    "# Save the scaler if needed for future transformations\n",
    "joblib.dump(scaler, 'scaler.joblib') \n"
   ]
  }
 ],
 "metadata": {
  "kernelspec": {
   "display_name": "Python 3",
   "language": "python",
   "name": "python3"
  },
  "language_info": {
   "codemirror_mode": {
    "name": "ipython",
    "version": 3
   },
   "file_extension": ".py",
   "mimetype": "text/x-python",
   "name": "python",
   "nbconvert_exporter": "python",
   "pygments_lexer": "ipython3",
   "version": "3.12.3"
  }
 },
 "nbformat": 4,
 "nbformat_minor": 2
}
