{
 "cells": [
  {
   "cell_type": "code",
   "execution_count": 1,
   "metadata": {},
   "outputs": [
    {
     "name": "stderr",
     "output_type": "stream",
     "text": [
      "c:\\Users\\Ashad InnO\\AppData\\Local\\Programs\\Python\\Python312\\Lib\\site-packages\\imblearn\\over_sampling\\_smote\\base.py:363: FutureWarning: The parameter `n_jobs` has been deprecated in 0.10 and will be removed in 0.12. You can pass an nearest neighbors estimator where `n_jobs` is already set instead.\n",
      "  warnings.warn(\n"
     ]
    },
    {
     "name": "stdout",
     "output_type": "stream",
     "text": [
      "Training the model...\n",
      "Model training completed.\n",
      "Making predictions...\n",
      "Predictions completed.\n",
      "Calculating metrics...\n",
      "Metrics calculation completed.\n",
      "Confusion Matrix:\n",
      "[[1270233     671]\n",
      " [     50    1570]]\n",
      "\n",
      "Metrics:\n",
      "Accuracy: 0.9994334095074042\n",
      "Precision: 0.7005800981704596\n",
      "Recall: 0.9691358024691358\n",
      "F1-score: 0.8132608132608132\n",
      "Model and scaler saved.\n"
     ]
    }
   ],
   "source": [
    "import pandas as pd\n",
    "from sklearn.model_selection import train_test_split\n",
    "from sklearn.preprocessing import LabelEncoder, StandardScaler\n",
    "from sklearn.tree import DecisionTreeClassifier\n",
    "from sklearn.metrics import confusion_matrix, accuracy_score, precision_score, recall_score, f1_score\n",
    "from imblearn.over_sampling import SMOTE\n",
    "import joblib\n",
    "\n",
    "# Load the data\n",
    "data = pd.read_csv('dataset.csv')\n",
    "\n",
    "# Preprocess the data\n",
    "# Drop columns that are not needed\n",
    "data = data.drop(['nameOrig', 'nameDest'], axis=1)\n",
    "\n",
    "# Encode the 'type' column\n",
    "label_encoder = LabelEncoder()\n",
    "data['type'] = label_encoder.fit_transform(data['type'])\n",
    "\n",
    "# Split the data into features and target\n",
    "X = data.drop(['isFraud'], axis=1)\n",
    "y = data['isFraud']\n",
    "\n",
    "# Split the data into training and testing sets\n",
    "X_train, X_test, y_train, y_test = train_test_split(X, y, test_size=0.2, random_state=42)\n",
    "\n",
    "# Standardize the features\n",
    "scaler = StandardScaler()\n",
    "X_train = scaler.fit_transform(X_train)\n",
    "X_test = scaler.transform(X_test)\n",
    "\n",
    "# Apply SMOTE to the training set using all CPU cores\n",
    "smote = SMOTE(random_state=42, n_jobs=-1)\n",
    "X_train_resampled, y_train_resampled = smote.fit_resample(X_train, y_train)\n",
    "\n",
    "# Create the DecisionTreeClassifier model with the best parameters\n",
    "dt_model = DecisionTreeClassifier(max_depth=None, min_samples_leaf=2, min_samples_split=5, random_state=42)\n",
    "\n",
    "# Fit the model to the resampled training data using all CPU cores\n",
    "print(\"Training the model...\")\n",
    "dt_model.fit(X_train_resampled, y_train_resampled)\n",
    "print(\"Model training completed.\")\n",
    "\n",
    "# Make predictions\n",
    "print(\"Making predictions...\")\n",
    "y_pred = dt_model.predict(X_test)\n",
    "print(\"Predictions completed.\")\n",
    "\n",
    "# Calculate metrics\n",
    "print(\"Calculating metrics...\")\n",
    "conf_matrix = confusion_matrix(y_test, y_pred)\n",
    "accuracy = accuracy_score(y_test, y_pred)\n",
    "precision = precision_score(y_test, y_pred)\n",
    "recall = recall_score(y_test, y_pred)\n",
    "f1 = f1_score(y_test, y_pred)\n",
    "print(\"Metrics calculation completed.\")\n",
    "\n",
    "# Display metrics\n",
    "print(\"Confusion Matrix:\")\n",
    "print(conf_matrix)\n",
    "print(\"\\nMetrics:\")\n",
    "print(\"Accuracy:\", accuracy)\n",
    "print(\"Precision:\", precision)\n",
    "print(\"Recall:\", recall)\n",
    "print(\"F1-score:\", f1)\n",
    "\n",
    "# Save the model\n",
    "joblib.dump(dt_model, 'dt_model_best.joblib')\n",
    "\n",
    "# Optionally, save the scaler if you need to apply the same transformation to new data\n",
    "joblib.dump(scaler, 'scaler.joblib')\n",
    "\n",
    "print(\"Model and scaler saved.\")\n"
   ]
  }
 ],
 "metadata": {
  "kernelspec": {
   "display_name": "Python 3",
   "language": "python",
   "name": "python3"
  },
  "language_info": {
   "codemirror_mode": {
    "name": "ipython",
    "version": 3
   },
   "file_extension": ".py",
   "mimetype": "text/x-python",
   "name": "python",
   "nbconvert_exporter": "python",
   "pygments_lexer": "ipython3",
   "version": "3.12.3"
  }
 },
 "nbformat": 4,
 "nbformat_minor": 2
}
