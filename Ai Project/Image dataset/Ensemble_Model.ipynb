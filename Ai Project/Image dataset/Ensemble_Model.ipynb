{
 "cells": [
  {
   "cell_type": "code",
   "execution_count": 2,
   "metadata": {},
   "outputs": [
    {
     "name": "stdout",
     "output_type": "stream",
     "text": [
      "Found 1008 images belonging to 36 classes.\n"
     ]
    },
    {
     "name": "stderr",
     "output_type": "stream",
     "text": [
      "c:\\Users\\Ashad InnO\\AppData\\Local\\Programs\\Python\\Python312\\Lib\\site-packages\\keras\\src\\trainers\\data_adapters\\py_dataset_adapter.py:121: UserWarning: Your `PyDataset` class should call `super().__init__(**kwargs)` in its constructor. `**kwargs` can include `workers`, `use_multiprocessing`, `max_queue_size`. Do not pass these arguments to `fit()`, as they will be ignored.\n",
      "  self._warn_if_super_not_called()\n"
     ]
    },
    {
     "name": "stdout",
     "output_type": "stream",
     "text": [
      "\u001b[1m32/32\u001b[0m \u001b[32m━━━━━━━━━━━━━━━━━━━━\u001b[0m\u001b[37m\u001b[0m \u001b[1m5s\u001b[0m 143ms/step\n",
      "\u001b[1m32/32\u001b[0m \u001b[32m━━━━━━━━━━━━━━━━━━━━\u001b[0m\u001b[37m\u001b[0m \u001b[1m1s\u001b[0m 23ms/step\n",
      "Fitting 5 folds for each of 10 candidates, totalling 50 fits\n",
      "Confusion Matrix (Meta-Model):\n",
      "[[20  7  0 ...  0  0  0]\n",
      " [ 2 26  0 ...  0  0  0]\n",
      " [ 0  0 28 ...  0  0  0]\n",
      " ...\n",
      " [ 0  0  0 ... 28  0  0]\n",
      " [ 0  0  0 ...  0  0 28]\n",
      " [ 0  0  0 ...  0  0 28]]\n",
      "\n",
      "Metrics (Meta-Model):\n",
      "Accuracy: 0.8283730158730159\n",
      "Precision: 0.7933358660503043\n",
      "Recall: 0.8283730158730159\n",
      "F1 Score: 0.7810851172858926\n",
      "Best Parameters found by Grid Search:\n",
      "{'C': 100, 'solver': 'liblinear'}\n"
     ]
    },
    {
     "name": "stderr",
     "output_type": "stream",
     "text": [
      "c:\\Users\\Ashad InnO\\AppData\\Local\\Programs\\Python\\Python312\\Lib\\site-packages\\sklearn\\metrics\\_classification.py:1509: UndefinedMetricWarning: Precision is ill-defined and being set to 0.0 in labels with no predicted samples. Use `zero_division` parameter to control this behavior.\n",
      "  _warn_prf(average, modifier, f\"{metric.capitalize()} is\", len(result))\n"
     ]
    },
    {
     "data": {
      "text/plain": [
       "['best_meta_model.joblib']"
      ]
     },
     "execution_count": 2,
     "metadata": {},
     "output_type": "execute_result"
    }
   ],
   "source": [
    "import numpy as np\n",
    "from tensorflow.keras.models import load_model\n",
    "from tensorflow.keras.preprocessing.image import ImageDataGenerator\n",
    "from sklearn.metrics import accuracy_score, precision_score, recall_score, f1_score, confusion_matrix\n",
    "import joblib\n",
    "from sklearn.linear_model import LogisticRegression\n",
    "from sklearn.model_selection import GridSearchCV\n",
    "import tensorflow as tf\n",
    "\n",
    "# Define paths and parameters\n",
    "train_dir = 'training_data'\n",
    "test_dir = 'testing_Data'\n",
    "image_height = 32\n",
    "image_width = 32\n",
    "batch_size = 32\n",
    "\n",
    "# Create data generator\n",
    "datagen = ImageDataGenerator(rescale=1./255)\n",
    "\n",
    "test_dataset = datagen.flow_from_directory(\n",
    "    test_dir,\n",
    "    target_size=(image_height, image_width),\n",
    "    batch_size=batch_size,\n",
    "    class_mode='sparse',\n",
    "    shuffle=False\n",
    ")\n",
    "\n",
    "# Load the trained CNN model\n",
    "cnn_model = load_model('cnn_improved.keras')\n",
    "\n",
    "# Load the trained SVM model\n",
    "svm_model = joblib.load('svm_model.joblib')\n",
    "\n",
    "# Load the pre-trained VGG16 model for feature extraction\n",
    "base_model = tf.keras.applications.VGG16(include_top=False, input_shape=(image_height, image_width, 3))\n",
    "base_model.trainable = False\n",
    "\n",
    "# Function to extract features using the pre-trained model\n",
    "def extract_features(dataset, model):\n",
    "    features = model.predict(dataset)\n",
    "    features = features.reshape((features.shape[0], -1))  # Flatten the features\n",
    "    return features\n",
    "\n",
    "# Extract features for the test dataset using the base model\n",
    "test_features = extract_features(test_dataset, base_model)\n",
    "\n",
    "# Get predictions from CNN\n",
    "cnn_pred_proba = cnn_model.predict(test_dataset)\n",
    "cnn_pred = np.argmax(cnn_pred_proba, axis=-1)\n",
    "\n",
    "# Get predictions from SVM\n",
    "svm_pred = svm_model.predict(test_features)\n",
    "\n",
    "# Get true labels\n",
    "y_true = test_dataset.classes\n",
    "\n",
    "# Combine the predictions into a single feature set\n",
    "X_meta = np.column_stack((cnn_pred, svm_pred))\n",
    "\n",
    "# Define the meta-model\n",
    "meta_model = LogisticRegression()\n",
    "\n",
    "# Define the parameter grid for hyperparameter tuning\n",
    "param_grid = {\n",
    "    'C': [0.01, 0.1, 1, 10, 100],\n",
    "    'solver': ['liblinear', 'lbfgs']\n",
    "}\n",
    "\n",
    "# Create the GridSearchCV object\n",
    "grid_search_meta = GridSearchCV(estimator=meta_model, param_grid=param_grid, \n",
    "                                scoring='precision_weighted', cv=5, n_jobs=-1, verbose=2)\n",
    "\n",
    "# Fit the grid search to the data\n",
    "grid_search_meta.fit(X_meta, y_true)\n",
    "\n",
    "# Get the best parameters and best meta-model\n",
    "best_meta_params = grid_search_meta.best_params_\n",
    "best_meta_model = grid_search_meta.best_estimator_\n",
    "\n",
    "# Predict using the meta-model\n",
    "y_meta_pred = best_meta_model.predict(X_meta)\n",
    "\n",
    "# Calculate metrics\n",
    "accuracy = accuracy_score(y_true, y_meta_pred)\n",
    "precision = precision_score(y_true, y_meta_pred, average='weighted')\n",
    "recall = recall_score(y_true, y_meta_pred, average='weighted')\n",
    "f1 = f1_score(y_true, y_meta_pred, average='weighted')\n",
    "conf_matrix = confusion_matrix(y_true, y_meta_pred)\n",
    "\n",
    "# Print the metrics\n",
    "print(\"Confusion Matrix (Meta-Model):\")\n",
    "print(conf_matrix)\n",
    "print(\"\\nMetrics (Meta-Model):\")\n",
    "print(f\"Accuracy: {accuracy}\")\n",
    "print(f\"Precision: {precision}\")\n",
    "print(f\"Recall: {recall}\")\n",
    "print(f\"F1 Score: {f1}\")\n",
    "\n",
    "# Print the best parameters\n",
    "print(\"Best Parameters found by Grid Search:\")\n",
    "print(best_meta_params)\n",
    "\n",
    "# Save the meta-model\n",
    "joblib.dump(best_meta_model, 'best_meta_model.joblib')\n"
   ]
  }
 ],
 "metadata": {
  "kernelspec": {
   "display_name": "Python 3",
   "language": "python",
   "name": "python3"
  },
  "language_info": {
   "codemirror_mode": {
    "name": "ipython",
    "version": 3
   },
   "file_extension": ".py",
   "mimetype": "text/x-python",
   "name": "python",
   "nbconvert_exporter": "python",
   "pygments_lexer": "ipython3",
   "version": "3.12.3"
  }
 },
 "nbformat": 4,
 "nbformat_minor": 2
}
