{
 "cells": [
  {
   "cell_type": "code",
   "execution_count": 2,
   "metadata": {},
   "outputs": [
    {
     "name": "stdout",
     "output_type": "stream",
     "text": [
      "Found 20628 images belonging to 36 classes.\n",
      "Found 1008 images belonging to 36 classes.\n",
      "Downloading data from https://storage.googleapis.com/tensorflow/keras-applications/vgg16/vgg16_weights_tf_dim_ordering_tf_kernels_notop.h5\n",
      "\u001b[1m58889256/58889256\u001b[0m \u001b[32m━━━━━━━━━━━━━━━━━━━━\u001b[0m\u001b[37m\u001b[0m \u001b[1m7s\u001b[0m 0us/step\n"
     ]
    },
    {
     "name": "stderr",
     "output_type": "stream",
     "text": [
      "c:\\Users\\Ashad InnO\\AppData\\Local\\Programs\\Python\\Python312\\Lib\\site-packages\\keras\\src\\trainers\\data_adapters\\py_dataset_adapter.py:121: UserWarning: Your `PyDataset` class should call `super().__init__(**kwargs)` in its constructor. `**kwargs` can include `workers`, `use_multiprocessing`, `max_queue_size`. Do not pass these arguments to `fit()`, as they will be ignored.\n",
      "  self._warn_if_super_not_called()\n"
     ]
    },
    {
     "name": "stdout",
     "output_type": "stream",
     "text": [
      "\u001b[1m645/645\u001b[0m \u001b[32m━━━━━━━━━━━━━━━━━━━━\u001b[0m\u001b[37m\u001b[0m \u001b[1m152s\u001b[0m 236ms/step\n",
      "\u001b[1m32/32\u001b[0m \u001b[32m━━━━━━━━━━━━━━━━━━━━\u001b[0m\u001b[37m\u001b[0m \u001b[1m6s\u001b[0m 201ms/step\n",
      "Accuracy: 0.9890873015873016\n",
      "Precision: 0.9903439153439153\n",
      "Recall: 0.9890873015873016\n",
      "F1 Score: 0.9889455782312926\n",
      "Confusion Matrix:\n",
      "[[27  0  0 ...  0  0  0]\n",
      " [ 0 28  0 ...  0  0  0]\n",
      " [ 0  0 28 ...  0  0  0]\n",
      " ...\n",
      " [ 0  0  0 ... 28  0  0]\n",
      " [ 0  0  0 ...  0 28  0]\n",
      " [ 0  0  0 ...  0  0 28]]\n"
     ]
    }
   ],
   "source": [
    "import tensorflow as tf\n",
    "from tensorflow.keras.preprocessing.image import ImageDataGenerator\n",
    "from sklearn.svm import SVC\n",
    "from sklearn.metrics import precision_score, recall_score, f1_score, confusion_matrix, accuracy_score\n",
    "import numpy as np\n",
    "import joblib\n",
    "\n",
    "# Define paths and parameters\n",
    "train_dir = 'training_data'\n",
    "test_dir = 'testing_Data'\n",
    "image_height = 32  \n",
    "image_width = 32  \n",
    "batch_size = 32\n",
    "\n",
    "# Create data generators for loading images\n",
    "datagen = ImageDataGenerator(rescale=1./255)\n",
    "\n",
    "train_dataset = datagen.flow_from_directory(\n",
    "    train_dir,\n",
    "    target_size=(image_height, image_width),\n",
    "    batch_size=batch_size,\n",
    "    class_mode='sparse',\n",
    "    shuffle=False\n",
    ")\n",
    "\n",
    "test_dataset = datagen.flow_from_directory(\n",
    "    test_dir,\n",
    "    target_size=(image_height, image_width),\n",
    "    batch_size=batch_size,\n",
    "    class_mode='sparse',\n",
    "    shuffle=False\n",
    ")\n",
    "\n",
    "# Load the pre-trained VGG16 model and use it for feature extraction\n",
    "base_model = tf.keras.applications.VGG16(include_top=False, input_shape=(image_height, image_width, 3))\n",
    "base_model.trainable = False\n",
    "\n",
    "# Function to extract features using the pre-trained model\n",
    "def extract_features(dataset):\n",
    "    features = base_model.predict(dataset)\n",
    "    features = features.reshape((features.shape[0], -1))  # Flatten the features\n",
    "    return features\n",
    "\n",
    "# Extract features for training and testing datasets\n",
    "train_features = extract_features(train_dataset)\n",
    "train_labels = train_dataset.classes\n",
    "test_features = extract_features(test_dataset)\n",
    "test_labels = test_dataset.classes\n",
    "\n",
    "# Train the SVM with a linear kernel\n",
    "svm = SVC(kernel='linear')\n",
    "svm.fit(train_features, train_labels)\n",
    "\n",
    "# Save the SVM model\n",
    "joblib.dump(svm, 'svm_model.joblib')\n",
    "\n",
    "# Predict the labels for the test dataset\n",
    "y_pred = svm.predict(test_features)\n",
    "\n",
    "# Calculate metrics\n",
    "accuracy = accuracy_score(test_labels, y_pred)\n",
    "precision = precision_score(test_labels, y_pred, average='weighted')\n",
    "recall = recall_score(test_labels, y_pred, average='weighted')\n",
    "f1 = f1_score(test_labels, y_pred, average='weighted')\n",
    "conf_matrix = confusion_matrix(test_labels, y_pred)\n",
    "\n",
    "# Print the metrics\n",
    "print(f'Accuracy: {accuracy}')\n",
    "print(f'Precision: {precision}')\n",
    "print(f'Recall: {recall}')\n",
    "print(f'F1 Score: {f1}')\n",
    "print('Confusion Matrix:')\n",
    "print(conf_matrix)\n"
   ]
  }
 ],
 "metadata": {
  "kernelspec": {
   "display_name": "Python 3",
   "language": "python",
   "name": "python3"
  },
  "language_info": {
   "codemirror_mode": {
    "name": "ipython",
    "version": 3
   },
   "file_extension": ".py",
   "mimetype": "text/x-python",
   "name": "python",
   "nbconvert_exporter": "python",
   "pygments_lexer": "ipython3",
   "version": "3.12.3"
  }
 },
 "nbformat": 4,
 "nbformat_minor": 2
}
