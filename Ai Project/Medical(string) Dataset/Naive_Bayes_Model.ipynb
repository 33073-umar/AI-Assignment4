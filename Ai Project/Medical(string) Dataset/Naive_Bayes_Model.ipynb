{
 "cells": [
  {
   "cell_type": "code",
   "execution_count": 1,
   "metadata": {},
   "outputs": [
    {
     "name": "stdout",
     "output_type": "stream",
     "text": [
      "Confusion Matrix (Naive Bayes):\n",
      "[[ 9549  9519]\n",
      " [ 2017 30744]]\n",
      "\n",
      "Metrics (Naive Bayes):\n",
      "Accuracy: 0.7774219066545757\n",
      "Precision: 0.7635794650175098\n",
      "Recall: 0.938432892768841\n",
      "F1-score: 0.8420245398773006\n"
     ]
    }
   ],
   "source": [
    "import pandas as pd\n",
    "from sklearn.feature_extraction.text import TfidfVectorizer\n",
    "from sklearn.model_selection import train_test_split\n",
    "from sklearn.preprocessing import StandardScaler\n",
    "from sklearn.metrics import confusion_matrix, accuracy_score, precision_score, recall_score, f1_score\n",
    "from sklearn.naive_bayes import MultinomialNB\n",
    "import joblib  # for saving the model\n",
    "import numpy as np\n",
    "# Load your dataset\n",
    "df = pd.read_csv('drugs.csv')\n",
    "\n",
    "# Drop rows with any missing values\n",
    "df.dropna(inplace=True)\n",
    "\n",
    "# Ensure ratings are numeric and filter out invalid entries\n",
    "df = df[pd.to_numeric(df['Rating'], errors='coerce').notnull()]\n",
    "df.loc[:, 'Rating'] = df['Rating'].astype(float)\n",
    "\n",
    "# Convert text data into TF-IDF features\n",
    "vectorizer = TfidfVectorizer(max_features=5000)\n",
    "X = vectorizer.fit_transform(df['Content']).toarray()\n",
    "\n",
    "# Target variable\n",
    "y = df['Rating'].values\n",
    "\n",
    "# Transform ratings to categorical labels for classification\n",
    "y = np.where(y >= 6, 1, 0)  # Example: ratings >= 6 are considered positive (1), others are negative (0)\n",
    "\n",
    "# Split data into training and testing sets\n",
    "X_train, X_test, y_train, y_test = train_test_split(X, y, test_size=0.2, random_state=42)\n",
    "\n",
    "# Train a Naive Bayes model\n",
    "nb_model = MultinomialNB()\n",
    "nb_model.fit(X_train, y_train)\n",
    "\n",
    "# Save the trained Naive Bayes model\n",
    "joblib.dump(nb_model, 'naive_bayes_model.joblib')\n",
    "\n",
    "# Load the Naive Bayes model (if needed)\n",
    "# nb_model = joblib.load('naive_bayes_model.joblib')\n",
    "\n",
    "# Predict on the test set with the Naive Bayes model\n",
    "y_pred_nb = nb_model.predict(X_test)\n",
    "\n",
    "# Calculate metrics for the Naive Bayes model\n",
    "conf_matrix = confusion_matrix(y_test, y_pred_nb)\n",
    "accuracy = accuracy_score(y_test, y_pred_nb)\n",
    "precision = precision_score(y_test, y_pred_nb)\n",
    "recall = recall_score(y_test, y_pred_nb)\n",
    "f1 = f1_score(y_test, y_pred_nb)\n",
    "\n",
    "# Display metrics\n",
    "print(\"Confusion Matrix (Naive Bayes):\")\n",
    "print(conf_matrix)\n",
    "print(\"\\nMetrics (Naive Bayes):\")\n",
    "print(\"Accuracy:\", accuracy)\n",
    "print(\"Precision:\", precision)\n",
    "print(\"Recall:\", recall)\n",
    "print(\"F1-score:\", f1)\n"
   ]
  }
 ],
 "metadata": {
  "kernelspec": {
   "display_name": "Python 3",
   "language": "python",
   "name": "python3"
  },
  "language_info": {
   "codemirror_mode": {
    "name": "ipython",
    "version": 3
   },
   "file_extension": ".py",
   "mimetype": "text/x-python",
   "name": "python",
   "nbconvert_exporter": "python",
   "pygments_lexer": "ipython3",
   "version": "3.12.3"
  }
 },
 "nbformat": 4,
 "nbformat_minor": 2
}
